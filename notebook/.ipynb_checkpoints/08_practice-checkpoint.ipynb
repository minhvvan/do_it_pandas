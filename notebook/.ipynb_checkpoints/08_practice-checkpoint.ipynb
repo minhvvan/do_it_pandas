{
 "cells": [
  {
   "cell_type": "markdown",
   "metadata": {},
   "source": [
    "# dtypes 속성으로 데이터프레임의 자료형 살펴보기"
   ]
  },
  {
   "cell_type": "code",
   "execution_count": 1,
   "metadata": {},
   "outputs": [],
   "source": [
    "import pandas as pd\n",
    "import seaborn as sns\n",
    "\n",
    "tips = sns.load_dataset(\"tips\")"
   ]
  },
  {
   "cell_type": "markdown",
   "metadata": {},
   "source": [
    "# 여러 가지 자료형을 문자열로 변환하기"
   ]
  },
  {
   "cell_type": "code",
   "execution_count": 3,
   "metadata": {},
   "outputs": [
    {
     "name": "stdout",
     "output_type": "stream",
     "text": [
      "total_bill     float64\n",
      "tip            float64\n",
      "sex           category\n",
      "smoker        category\n",
      "day           category\n",
      "time          category\n",
      "size             int64\n",
      "sex_str         object\n",
      "dtype: object\n"
     ]
    }
   ],
   "source": [
    "tips['sex_str'] = tips['sex'].astype(str)\n",
    "print(tips.dtypes)"
   ]
  },
  {
   "cell_type": "markdown",
   "metadata": {},
   "source": [
    "# 자료형을 변환한 데이터 다시 원래대로 만들기"
   ]
  },
  {
   "cell_type": "code",
   "execution_count": 5,
   "metadata": {},
   "outputs": [
    {
     "name": "stdout",
     "output_type": "stream",
     "text": [
      "total_bill      object\n",
      "tip            float64\n",
      "sex           category\n",
      "smoker        category\n",
      "day           category\n",
      "time          category\n",
      "size             int64\n",
      "sex_str         object\n",
      "dtype: object\n",
      "\n",
      "total_bill     float64\n",
      "tip            float64\n",
      "sex           category\n",
      "smoker        category\n",
      "day           category\n",
      "time          category\n",
      "size             int64\n",
      "sex_str         object\n",
      "dtype: object\n"
     ]
    }
   ],
   "source": [
    "tips['total_bill'] = tips['total_bill'].astype(str)\n",
    "print(tips.dtypes)\n",
    "print()\n",
    "tips['total_bill'] = tips['total_bill'].astype(float)\n",
    "print(tips.dtypes)"
   ]
  },
  {
   "cell_type": "markdown",
   "metadata": {},
   "source": [
    "# 잘못 입력한 문자열 처리하기"
   ]
  },
  {
   "cell_type": "code",
   "execution_count": 7,
   "metadata": {
    "scrolled": true
   },
   "outputs": [
    {
     "name": "stdout",
     "output_type": "stream",
     "text": [
      "  total_bill   tip     sex smoker  day    time  size sex_str\n",
      "0      16.99  1.01  Female     No  Sun  Dinner     2  Female\n",
      "1    missing  1.66    Male     No  Sun  Dinner     3    Male\n",
      "2      21.01  3.50    Male     No  Sun  Dinner     3    Male\n",
      "3    missing  3.31    Male     No  Sun  Dinner     2    Male\n",
      "4      24.59  3.61  Female     No  Sun  Dinner     4  Female\n",
      "5    missing  4.71    Male     No  Sun  Dinner     4    Male\n",
      "6       8.77  2.00    Male     No  Sun  Dinner     2    Male\n",
      "7    missing  3.12    Male     No  Sun  Dinner     4    Male\n",
      "8      15.04  1.96    Male     No  Sun  Dinner     2    Male\n",
      "9      14.78  3.23    Male     No  Sun  Dinner     2    Male\n",
      "\n",
      "total_bill      object\n",
      "tip            float64\n",
      "sex           category\n",
      "smoker        category\n",
      "day           category\n",
      "time          category\n",
      "size             int64\n",
      "sex_str         object\n",
      "dtype: object\n"
     ]
    },
    {
     "name": "stderr",
     "output_type": "stream",
     "text": [
      "C:\\Users\\eminh\\anaconda3\\lib\\site-packages\\pandas\\core\\indexing.py:1765: SettingWithCopyWarning: \n",
      "A value is trying to be set on a copy of a slice from a DataFrame.\n",
      "Try using .loc[row_indexer,col_indexer] = value instead\n",
      "\n",
      "See the caveats in the documentation: https://pandas.pydata.org/pandas-docs/stable/user_guide/indexing.html#returning-a-view-versus-a-copy\n",
      "  isetter(loc, value)\n"
     ]
    }
   ],
   "source": [
    "tips_sub_miss = tips.head(10)\n",
    "tips_sub_miss.loc[[1, 3, 5, 7], 'total_bill'] = 'missing'\n",
    "print(tips_sub_miss)\n",
    "print()\n",
    "print(tips_sub_miss.dtypes)"
   ]
  },
  {
   "cell_type": "code",
   "execution_count": 10,
   "metadata": {
    "scrolled": true
   },
   "outputs": [
    {
     "name": "stdout",
     "output_type": "stream",
     "text": [
      "total_bill      object\n",
      "tip            float64\n",
      "sex           category\n",
      "smoker        category\n",
      "day           category\n",
      "time          category\n",
      "size             int64\n",
      "sex_str         object\n",
      "dtype: object\n"
     ]
    },
    {
     "name": "stderr",
     "output_type": "stream",
     "text": [
      "<ipython-input-10-5881133b5e1e>:1: SettingWithCopyWarning: \n",
      "A value is trying to be set on a copy of a slice from a DataFrame.\n",
      "Try using .loc[row_indexer,col_indexer] = value instead\n",
      "\n",
      "See the caveats in the documentation: https://pandas.pydata.org/pandas-docs/stable/user_guide/indexing.html#returning-a-view-versus-a-copy\n",
      "  tips_sub_miss['total_bill'] = pd.to_numeric(tips_sub_miss['total_bill'], errors='ignore')\n"
     ]
    }
   ],
   "source": [
    "tips_sub_miss['total_bill'] = pd.to_numeric(tips_sub_miss['total_bill'], errors='ignore')\n",
    "print(tips_sub_miss.dtypes)"
   ]
  },
  {
   "cell_type": "code",
   "execution_count": 12,
   "metadata": {
    "scrolled": true
   },
   "outputs": [
    {
     "name": "stdout",
     "output_type": "stream",
     "text": [
      "   total_bill   tip     sex smoker  day    time  size sex_str\n",
      "0       16.99  1.01  Female     No  Sun  Dinner     2  Female\n",
      "1         NaN  1.66    Male     No  Sun  Dinner     3    Male\n",
      "2       21.01  3.50    Male     No  Sun  Dinner     3    Male\n",
      "3         NaN  3.31    Male     No  Sun  Dinner     2    Male\n",
      "4       24.59  3.61  Female     No  Sun  Dinner     4  Female\n",
      "5         NaN  4.71    Male     No  Sun  Dinner     4    Male\n",
      "6        8.77  2.00    Male     No  Sun  Dinner     2    Male\n",
      "7         NaN  3.12    Male     No  Sun  Dinner     4    Male\n",
      "8       15.04  1.96    Male     No  Sun  Dinner     2    Male\n",
      "9       14.78  3.23    Male     No  Sun  Dinner     2    Male\n"
     ]
    },
    {
     "name": "stderr",
     "output_type": "stream",
     "text": [
      "<ipython-input-12-ef20acd31838>:1: SettingWithCopyWarning: \n",
      "A value is trying to be set on a copy of a slice from a DataFrame.\n",
      "Try using .loc[row_indexer,col_indexer] = value instead\n",
      "\n",
      "See the caveats in the documentation: https://pandas.pydata.org/pandas-docs/stable/user_guide/indexing.html#returning-a-view-versus-a-copy\n",
      "  tips_sub_miss['total_bill'] = pd.to_numeric(tips_sub_miss['total_bill'], errors='coerce')\n"
     ]
    }
   ],
   "source": [
    "tips_sub_miss['total_bill'] = pd.to_numeric(tips_sub_miss['total_bill'], errors='coerce')\n",
    "print(tips_sub_miss)"
   ]
  },
  {
   "cell_type": "code",
   "execution_count": 13,
   "metadata": {
    "scrolled": true
   },
   "outputs": [
    {
     "name": "stdout",
     "output_type": "stream",
     "text": [
      "total_bill     float32\n",
      "tip            float64\n",
      "sex           category\n",
      "smoker        category\n",
      "day           category\n",
      "time          category\n",
      "size             int64\n",
      "sex_str         object\n",
      "dtype: object\n"
     ]
    },
    {
     "name": "stderr",
     "output_type": "stream",
     "text": [
      "<ipython-input-13-edb91e91a891>:1: SettingWithCopyWarning: \n",
      "A value is trying to be set on a copy of a slice from a DataFrame.\n",
      "Try using .loc[row_indexer,col_indexer] = value instead\n",
      "\n",
      "See the caveats in the documentation: https://pandas.pydata.org/pandas-docs/stable/user_guide/indexing.html#returning-a-view-versus-a-copy\n",
      "  tips_sub_miss['total_bill'] = pd.to_numeric(tips_sub_miss['total_bill'], errors='coerce', downcast='float')\n"
     ]
    }
   ],
   "source": [
    "tips_sub_miss['total_bill'] = pd.to_numeric(tips_sub_miss['total_bill'], errors='coerce', downcast='float')\n",
    "print(tips_sub_miss.dtypes)"
   ]
  },
  {
   "cell_type": "markdown",
   "metadata": {},
   "source": [
    "# 문자열을 카테고리로 변환하기"
   ]
  },
  {
   "cell_type": "code",
   "execution_count": 14,
   "metadata": {},
   "outputs": [
    {
     "name": "stdout",
     "output_type": "stream",
     "text": [
      "<class 'pandas.core.frame.DataFrame'>\n",
      "RangeIndex: 244 entries, 0 to 243\n",
      "Data columns (total 8 columns):\n",
      " #   Column      Non-Null Count  Dtype   \n",
      "---  ------      --------------  -----   \n",
      " 0   total_bill  244 non-null    float64 \n",
      " 1   tip         244 non-null    float64 \n",
      " 2   sex         244 non-null    object  \n",
      " 3   smoker      244 non-null    category\n",
      " 4   day         244 non-null    category\n",
      " 5   time        244 non-null    category\n",
      " 6   size        244 non-null    int64   \n",
      " 7   sex_str     244 non-null    object  \n",
      "dtypes: category(3), float64(2), int64(1), object(2)\n",
      "memory usage: 10.7+ KB\n",
      "None\n"
     ]
    }
   ],
   "source": [
    "tips['sex'] = tips['sex'].astype('str')\n",
    "print(tips.info())"
   ]
  },
  {
   "cell_type": "code",
   "execution_count": 15,
   "metadata": {},
   "outputs": [
    {
     "name": "stdout",
     "output_type": "stream",
     "text": [
      "<class 'pandas.core.frame.DataFrame'>\n",
      "RangeIndex: 244 entries, 0 to 243\n",
      "Data columns (total 8 columns):\n",
      " #   Column      Non-Null Count  Dtype   \n",
      "---  ------      --------------  -----   \n",
      " 0   total_bill  244 non-null    float64 \n",
      " 1   tip         244 non-null    float64 \n",
      " 2   sex         244 non-null    category\n",
      " 3   smoker      244 non-null    category\n",
      " 4   day         244 non-null    category\n",
      " 5   time        244 non-null    category\n",
      " 6   size        244 non-null    int64   \n",
      " 7   sex_str     244 non-null    object  \n",
      "dtypes: category(4), float64(2), int64(1), object(1)\n",
      "memory usage: 9.2+ KB\n",
      "None\n"
     ]
    }
   ],
   "source": [
    "tips['sex'] = tips['sex'].astype('category')\n",
    "print(tips.info())"
   ]
  }
 ],
 "metadata": {
  "kernelspec": {
   "display_name": "Python 3",
   "language": "python",
   "name": "python3"
  },
  "language_info": {
   "codemirror_mode": {
    "name": "ipython",
    "version": 3
   },
   "file_extension": ".py",
   "mimetype": "text/x-python",
   "name": "python",
   "nbconvert_exporter": "python",
   "pygments_lexer": "ipython3",
   "version": "3.8.5"
  }
 },
 "nbformat": 4,
 "nbformat_minor": 1
}
